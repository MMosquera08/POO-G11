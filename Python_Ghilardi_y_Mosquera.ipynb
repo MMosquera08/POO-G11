{
  "nbformat": 4,
  "nbformat_minor": 0,
  "metadata": {
    "colab": {
      "provenance": [],
      "include_colab_link": true
    },
    "kernelspec": {
      "name": "python3",
      "display_name": "Python 3"
    },
    "language_info": {
      "name": "python"
    }
  },
  "cells": [
    {
      "cell_type": "markdown",
      "metadata": {
        "id": "view-in-github",
        "colab_type": "text"
      },
      "source": [
        "<a href=\"https://colab.research.google.com/github/MMosquera08/POO-G11/blob/main/Python_Ghilardi_y_Mosquera.ipynb\" target=\"_parent\"><img src=\"https://colab.research.google.com/assets/colab-badge.svg\" alt=\"Open In Colab\"/></a>"
      ]
    },
    {
      "cell_type": "code",
      "execution_count": null,
      "metadata": {
        "colab": {
          "base_uri": "https://localhost:8080/"
        },
        "id": "2jkDEgBSP09E",
        "outputId": "2f20512d-c15d-432f-ac5a-cfde5dd793b4"
      },
      "outputs": [
        {
          "output_type": "stream",
          "name": "stdout",
          "text": [
            "Ingrese la base del triángulo: 5\n",
            "Ingrese la altura del triángulo: 3\n",
            "El área del triángulo es:  7.5\n"
          ]
        }
      ],
      "source": [
        "# Ejercicio Práctico 1 - Calcular el área de un triángulo.\n",
        "base = float(input(\"Ingrese la base del triángulo: \"))\n",
        "altura = float(input(\"Ingrese la altura del triángulo: \"))\n",
        "print(\"El área del triángulo es: \", base*altura/2)"
      ]
    },
    {
      "cell_type": "code",
      "source": [
        "# Ejercicio Práctico 2 - Determinar si un número es par o impar.\n",
        "numero = float(input(\"Ingrese un número: \"))\n",
        "if numero%2==0:\n",
        "  print(\"El número es par.\")\n",
        "else:\n",
        "  print(\"El número es impar.\")"
      ],
      "metadata": {
        "colab": {
          "base_uri": "https://localhost:8080/"
        },
        "id": "D_gQcjzWRV-W",
        "outputId": "9fd29ada-850d-4e96-aeb0-80bfa2df2aea"
      },
      "execution_count": null,
      "outputs": [
        {
          "output_type": "stream",
          "name": "stdout",
          "text": [
            "Ingrese un número: 15\n",
            "El número es impar.\n"
          ]
        }
      ]
    },
    {
      "cell_type": "code",
      "source": [
        "# Ejercicio Práctico 3 - Imprimir los números del 1 al 10.\n",
        "for i in range(1, 11):\n",
        "  print(i)"
      ],
      "metadata": {
        "colab": {
          "base_uri": "https://localhost:8080/"
        },
        "id": "KOxRcovvSJy2",
        "outputId": "8c5abb25-08b8-42ed-b650-9ced75c4f02f"
      },
      "execution_count": null,
      "outputs": [
        {
          "output_type": "stream",
          "name": "stdout",
          "text": [
            "1\n",
            "2\n",
            "3\n",
            "4\n",
            "5\n",
            "6\n",
            "7\n",
            "8\n",
            "9\n",
            "10\n"
          ]
        }
      ]
    },
    {
      "cell_type": "code",
      "source": [
        "# Ejercicio Práctico 4 - Solicitar al usuario su nombre y saludarlo.\n",
        "nombre = input(\"Ingrese su nombre: \")\n",
        "print(\"Hola,\", nombre + \"!\")"
      ],
      "metadata": {
        "colab": {
          "base_uri": "https://localhost:8080/"
        },
        "id": "HIs73_62Si6M",
        "outputId": "441cfd39-2817-4d50-c42b-aa817b1472ce"
      },
      "execution_count": null,
      "outputs": [
        {
          "output_type": "stream",
          "name": "stdout",
          "text": [
            "Ingrese su nombre: Emilia\n",
            "Hola, Emilia!\n"
          ]
        }
      ]
    }
  ]
}