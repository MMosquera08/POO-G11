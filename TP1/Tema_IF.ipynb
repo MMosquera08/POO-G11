{
 "cells": [
  {
   "cell_type": "markdown",
   "metadata": {},
   "source": [
    "### Ejercicio 1 (Básico - Completar Código)\n",
    "Completa el siguiente código para que verifique si un número ingresado por el usuario es positivo, negativo o cero."
   ]
  },
  {
   "cell_type": "code",
   "execution_count": null,
   "metadata": {},
   "outputs": [
    {
     "name": "stdout",
     "output_type": "stream",
     "text": [
      "El número es positivo.\n"
     ]
    }
   ],
   "source": [
    "num = int(input(\"Ingrese un número: \"))\n",
    "\n",
    "if num > 0:\n",
    "    print(\"El número es positivo.\")\n",
    "elif num < 0:\n",
    "    print(\"El número es negativo.\")\n",
    "else:\n",
    "    print(\"El número es cero.\")"
   ]
  },
  {
   "cell_type": "markdown",
   "metadata": {},
   "source": [
    "### Ejercicio 2 (Intermedio - Escribir Código desde Cero)\n",
    "Escribe un programa que pida al usuario su edad y determine si es un niño (0-12 años), un adolescente (13-17 años), un adulto (18-64 años) o un adulto mayor (65 años o más). Usa if, elif y else."
   ]
  },
  {
   "cell_type": "code",
   "execution_count": null,
   "metadata": {},
   "outputs": [
    {
     "name": "stdout",
     "output_type": "stream",
     "text": [
      "Eres un adolescente.\n"
     ]
    }
   ],
   "source": [
    "edad = int(input(\"Ingresa tu edad: \"))\n",
    "\n",
    "if edad < 13:\n",
    "    print(\"Eres un niño.\")\n",
    "elif edad < 18:\n",
    "    print(\"Eres un adolescente.\")\n",
    "elif edad < 65:\n",
    "    print(\"Eres un adulto.\")\n",
    "else:\n",
    "    print(\"Eres un adulto mayor.\")"
   ]
  },
  {
   "cell_type": "markdown",
   "metadata": {},
   "source": [
    "### Ejercicio 3 (Avanzado - Investigar y Aplicar el Operador Ternario)\n",
    "Crea un programa que reciba dos números enteros del usuario e indique cuál es el mayor utilizando el operador ternario. Si los números son iguales, debe mostrar un mensaje indicándolo."
   ]
  },
  {
   "cell_type": "code",
   "execution_count": 7,
   "metadata": {},
   "outputs": [
    {
     "name": "stdout",
     "output_type": "stream",
     "text": [
      "El segundo número es mayor.\n"
     ]
    }
   ],
   "source": [
    "numero1 = int(input(\"Ingrese el primer número: \"))\n",
    "numero2 = int(input(\"Ingrese el segundo número: \"))\n",
    "\n",
    "if numero1 < numero2:\n",
    "    print(\"El segundo número es mayor.\")\n",
    "elif numero1 > numero2:\n",
    "    print(\"El primer número es mayor.\")\n",
    "else:\n",
    "    print(\"Ambos números son iguales.\")"
   ]
  }
 ],
 "metadata": {
  "kernelspec": {
   "display_name": "Python 3",
   "language": "python",
   "name": "python3"
  },
  "language_info": {
   "codemirror_mode": {
    "name": "ipython",
    "version": 3
   },
   "file_extension": ".py",
   "mimetype": "text/x-python",
   "name": "python",
   "nbconvert_exporter": "python",
   "pygments_lexer": "ipython3",
   "version": "3.11.9"
  }
 },
 "nbformat": 4,
 "nbformat_minor": 2
}
